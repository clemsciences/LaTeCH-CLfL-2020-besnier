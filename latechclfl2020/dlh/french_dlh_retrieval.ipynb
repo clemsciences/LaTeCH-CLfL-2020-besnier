{
 "cells": [
  {
   "cell_type": "markdown",
   "metadata": {
    "collapsed": true,
    "pycharm": {
     "name": "#%% md\n"
    }
   },
   "source": [
    "# Decem libra historium\n",
    "\n",
    "__author__ = [\"Clément Besnier <clem@clementbesnier.fr>\", ]"
   ]
  },
  {
   "cell_type": "code",
   "execution_count": 2,
   "outputs": [
    {
     "name": "stdout",
     "output_type": "stream",
     "text": [
      "['https://fr.wikisource.org/wiki/Histoires_(Gr%C3%A9goire_de_Tours)/Pr%C3%A9face', 'https://fr.wikisource.org/wiki/Histoires_(Gr%C3%A9goire_de_Tours)/1', 'https://fr.wikisource.org/wiki/Histoires_(Gr%C3%A9goire_de_Tours)/2', 'https://fr.wikisource.org/wiki/Histoires_(Gr%C3%A9goire_de_Tours)/3', 'https://fr.wikisource.org/wiki/Histoires_(Gr%C3%A9goire_de_Tours)/4', 'https://fr.wikisource.org/wiki/Histoires_(Gr%C3%A9goire_de_Tours)/5', 'https://fr.wikisource.org/wiki/Histoires_(Gr%C3%A9goire_de_Tours)/6', 'https://fr.wikisource.org/wiki/Histoires_(Gr%C3%A9goire_de_Tours)/7', 'https://fr.wikisource.org/wiki/Histoires_(Gr%C3%A9goire_de_Tours)/8', 'https://fr.wikisource.org/wiki/Histoires_(Gr%C3%A9goire_de_Tours)/9', 'https://fr.wikisource.org/wiki/Histoires_(Gr%C3%A9goire_de_Tours)/10']\n"
     ]
    }
   ],
   "source": [
    "# Grégoire de Tours of Tours\n",
    "from typing import List, Dict\n",
    "from chr2020 import PACKDIR\n",
    "n_books = 10\n",
    "\n",
    "dhl_links = [\"https://fr.wikisource.org/wiki/Histoires_(Gr%C3%A9goire_de_Tours)/Pr%C3%A9face\", ]\n",
    "dlh_link_pattern = \"https://fr.wikisource.org/wiki/Histoires_(Gr%C3%A9goire_de_Tours)/\"\n",
    "dhl_links.extend([f\"{dlh_link_pattern}{i}\" for i in range(1, n_books+1)])\n",
    "\n",
    "print(dhl_links)"
   ],
   "metadata": {
    "collapsed": false,
    "pycharm": {
     "name": "#%%\n"
    }
   }
  },
  {
   "cell_type": "markdown",
   "source": [
    "## *Decem libra historium* retrieval"
   ],
   "metadata": {
    "collapsed": false
   }
  },
  {
   "cell_type": "code",
   "execution_count": 5,
   "outputs": [],
   "source": [
    "import os\n",
    "import time\n",
    "import codecs\n",
    "import requests\n",
    "\n",
    "\n",
    "def retrieve_texts(links):\n",
    "    \"\"\"\n",
    "\n",
    "    :param links:\n",
    "    :return:\n",
    "    \"\"\"\n",
    "    texts = {}\n",
    "    for link in links:\n",
    "        r = requests.get(link)\n",
    "        time.sleep(1)\n",
    "        texts[link] = r.content\n",
    "    return texts\n",
    "\n",
    "\n",
    "\n",
    "def save_texts(texts: Dict[str, bytes], directory: str):\n",
    "    \"\"\"\n",
    "\n",
    "    :param texts:\n",
    "    :param directory:\n",
    "    :return:\n",
    "    \"\"\"\n",
    "\n",
    "    if not os.path.exists(directory):\n",
    "        os.mkdir(directory)\n",
    "    for i, link in enumerate(texts):\n",
    "        filename = os.path.join(directory, str(i+1)+\".html\")\n",
    "        with codecs.open(filename, \"w\", encoding=\"utf-8\") as f:\n",
    "            f.write(texts[link].decode(\"utf-8\"))\n"
   ],
   "metadata": {
    "collapsed": false,
    "pycharm": {
     "name": "#%%\n"
    }
   }
  },
  {
   "cell_type": "code",
   "execution_count": 6,
   "outputs": [],
   "source": [
    "dhl_directory_html = \"gregoire_de_tours_html\"\n",
    "tours_texts = retrieve_texts(dhl_links)\n",
    "save_texts(tours_texts, dhl_directory_html)"
   ],
   "metadata": {
    "collapsed": false,
    "pycharm": {
     "name": "#%%\n"
    }
   }
  },
  {
   "cell_type": "markdown",
   "source": [
    "## *Decem libra historium* web to text"
   ],
   "metadata": {
    "collapsed": false
   }
  },
  {
   "cell_type": "code",
   "execution_count": 7,
   "outputs": [],
   "source": [
    "from bs4 import BeautifulSoup\n",
    "\n",
    "def extract_text_from_html(directory: str) -> list:\n",
    "    \"\"\"\n",
    "    From HTML files to TXT files\n",
    "\n",
    "\n",
    "\n",
    "    :param directory:\n",
    "    :return:\n",
    "    \"\"\"\n",
    "    retrieved_texts = []\n",
    "    filenames = sorted(os.listdir(directory), key=lambda x: int(x.split(\".\")[0]))\n",
    "    print(filenames)\n",
    "    for filename in filenames:\n",
    "        with codecs.open(os.path.join(directory, filename), \"r\", encoding=\"utf-8\") as f:\n",
    "            text = f.read()\n",
    "            tree = BeautifulSoup(text, \"lxml\")\n",
    "            div = tree.find(\"div\", {\"class\": \"mw-parser-output\"})\n",
    "            retrieved_texts.append(div.get_text())\n",
    "    return retrieved_texts"
   ],
   "metadata": {
    "collapsed": false,
    "pycharm": {
     "name": "#%%\n"
    }
   }
  },
  {
   "cell_type": "code",
   "execution_count": 9,
   "outputs": [],
   "source": [
    "def save_txt_reformat(dst_directory: str,\n",
    "                      retrieved_texts: list):\n",
    "    \"\"\"\n",
    "    Save TXT files\n",
    "\n",
    "    :param dst_directory:\n",
    "    :param retrieved_texts:\n",
    "    :return:\n",
    "    \"\"\"\n",
    "    if not os.path.exists(dst_directory):\n",
    "        os.mkdir(dst_directory)\n",
    "\n",
    "    for i, text in enumerate(retrieved_texts):\n",
    "        filename = os.path.join(dst_directory, f\"{i+1}.txt\")\n",
    "        extracted_text = text\n",
    "        with codecs.open(filename, mode=\"w\", encoding=\"utf-8\") as f:\n",
    "            # lines = [\"\\t\".join(line) for line in extracted_text]\n",
    "            # final_text = \"\\n\".join(lines)\n",
    "            f.write(extracted_text)"
   ],
   "metadata": {
    "collapsed": false,
    "pycharm": {
     "name": "#%%\n"
    }
   }
  },
  {
   "cell_type": "code",
   "execution_count": 10,
   "outputs": [
    {
     "name": "stdout",
     "output_type": "stream",
     "text": [
      "C:\\Users\\clems\\PycharmProjects\\CHR2020\\chr2020\\dlh\n",
      "['1.html', '2.html', '3.html', '4.html', '5.html', '6.html', '7.html', '8.html', '9.html', '10.html', '11.html']\n"
     ]
    }
   ],
   "source": [
    "print(os.getcwd())\n",
    "dhl_directory = \"gregoire_de_tours\"\n",
    "tours_retrieved_texts = extract_text_from_html(os.path.join(PACKDIR, \"dlh\", dhl_directory+\"_html\"))\n",
    "save_txt_reformat(os.path.join(PACKDIR, \"dlh\", dhl_directory+\"_txt\"), tours_retrieved_texts)"
   ],
   "metadata": {
    "collapsed": false,
    "pycharm": {
     "name": "#%%\n"
    }
   }
  },
  {
   "cell_type": "markdown",
   "source": [
    "## Manual cleaning"
   ],
   "metadata": {
    "collapsed": false
   }
  }
 ],
 "metadata": {
  "kernelspec": {
   "display_name": "Python 3",
   "language": "python",
   "name": "python3"
  },
  "language_info": {
   "codemirror_mode": {
    "name": "ipython",
    "version": 2
   },
   "file_extension": ".py",
   "mimetype": "text/x-python",
   "name": "python",
   "nbconvert_exporter": "python",
   "pygments_lexer": "ipython2",
   "version": "2.7.6"
  }
 },
 "nbformat": 4,
 "nbformat_minor": 0
}