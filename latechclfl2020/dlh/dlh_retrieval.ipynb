{
 "cells": [
  {
   "cell_type": "markdown",
   "metadata": {
    "pycharm": {
     "name": "#%% md\n"
    }
   },
   "source": [
    "# Decem libra historium\n",
    "\n",
    "__author__ = [\"Clément Besnier <clem@clementbesnier.fr>\", ]"
   ]
  },
  {
   "cell_type": "code",
   "execution_count": 1,
   "metadata": {
    "pycharm": {
     "name": "#%%\n"
    }
   },
   "outputs": [],
   "source": [
    "# Gregory of Tours\n",
    "from typing import List, Dict\n",
    "from chr2020 import PACKDIR\n",
    "n_books = 10\n",
    "dlh_link_pattern = \"https://www.thelatinlibrary.com/gregorytours/gregorytours\"\n",
    "suffix = \".shtml\"\n",
    "dhl_links = [f\"{dlh_link_pattern}{i}{suffix}\" for i in range(1, n_books+1)]\n"
   ]
  },
  {
   "cell_type": "markdown",
   "metadata": {
    "pycharm": {
     "name": "#%% md\n"
    }
   },
   "source": [
    "## *Decem libra historium* retrieval"
   ]
  },
  {
   "cell_type": "code",
   "execution_count": 2,
   "metadata": {
    "pycharm": {
     "name": "#%%\n"
    }
   },
   "outputs": [],
   "source": [
    "import os\n",
    "import time\n",
    "import codecs\n",
    "import requests\n",
    "\n",
    "\n",
    "def retrieve_texts(links):\n",
    "    \"\"\"\n",
    "\n",
    "    :param links:\n",
    "    :return:\n",
    "    \"\"\"\n",
    "    texts = {}\n",
    "    for link in links:\n",
    "        r = requests.get(link)\n",
    "        time.sleep(1)\n",
    "        texts[link] = r.content\n",
    "    return texts\n",
    "\n",
    "\n",
    "\n",
    "def save_texts(texts: Dict[str, bytes], directory: str):\n",
    "    \"\"\"\n",
    "\n",
    "    :param texts:\n",
    "    :param directory:\n",
    "    :return:\n",
    "    \"\"\"\n",
    "\n",
    "    if not os.path.exists(directory):\n",
    "        os.mkdir(directory)\n",
    "    for i, link in enumerate(texts):\n",
    "        filename = os.path.join(directory, str(i+1)+\".html\")\n",
    "        with codecs.open(filename, \"w\", encoding=\"utf-8\") as f:\n",
    "            f.write(texts[link].decode(\"ISO-8859-1\"))\n"
   ]
  },
  {
   "cell_type": "code",
   "execution_count": 3,
   "metadata": {
    "pycharm": {
     "name": "#%%\n"
    }
   },
   "outputs": [],
   "source": [
    "dhl_directory_html = \"gregory_of_tours_html\"\n",
    "# tours_texts = retrieve_texts()\n",
    "# save_texts(dhl_links, tours_directory)"
   ]
  },
  {
   "cell_type": "markdown",
   "metadata": {
    "pycharm": {
     "name": "#%% md\n"
    }
   },
   "source": [
    "## *Decem libra historium* web to text"
   ]
  },
  {
   "cell_type": "code",
   "execution_count": 4,
   "metadata": {
    "pycharm": {
     "name": "#%%\n"
    }
   },
   "outputs": [],
   "source": [
    "from bs4 import BeautifulSoup\n",
    "\n",
    "def extract_text_from_html(directory: str) -> list:\n",
    "    \"\"\"\n",
    "    From HTML files to TXT files\n",
    "\n",
    "\n",
    "\n",
    "    :param directory:\n",
    "    :return:\n",
    "    \"\"\"\n",
    "    retrieved_texts = []\n",
    "    filenames = sorted(os.listdir(directory), key=lambda x: int(x.split(\".\")[0]))\n",
    "    print(filenames)\n",
    "    for filename in filenames:\n",
    "        with codecs.open(os.path.join(directory, filename), \"r\", encoding=\"utf-8\") as f:\n",
    "            text = f.read()\n",
    "            tree = BeautifulSoup(text, \"lxml\")\n",
    "            retrieved_texts.append(tree.get_text())\n",
    "    return retrieved_texts"
   ]
  },
  {
   "cell_type": "code",
   "execution_count": 5,
   "metadata": {
    "pycharm": {
     "name": "#%%\n"
    }
   },
   "outputs": [],
   "source": [
    "def save_txt_reformat(dst_directory: str,\n",
    "                      retrieved_texts: list):\n",
    "    \"\"\"\n",
    "    Save TXT files\n",
    "\n",
    "    :param dst_directory:\n",
    "    :param retrieved_texts:\n",
    "    :return:\n",
    "    \"\"\"\n",
    "    if not os.path.exists(dst_directory):\n",
    "        os.mkdir(dst_directory)\n",
    "\n",
    "    for i, text in enumerate(retrieved_texts):\n",
    "        filename = os.path.join(dst_directory, f\"{i+1}.txt\")\n",
    "        extracted_text = text\n",
    "        with codecs.open(filename, mode=\"w\", encoding=\"utf-8\") as f:\n",
    "            # lines = [\"\\t\".join(line) for line in extracted_text]\n",
    "            # final_text = \"\\n\".join(lines)\n",
    "            f.write(extracted_text)"
   ]
  },
  {
   "cell_type": "code",
   "execution_count": 6,
   "metadata": {
    "pycharm": {
     "name": "#%%\n"
    }
   },
   "outputs": [
    {
     "name": "stdout",
     "output_type": "stream",
     "text": [
      "C:\\Users\\clems\\PycharmProjects\\CHR2020\\src\n",
      "['1.html', '2.html', '3.html', '4.html', '5.html', '6.html', '7.html', '8.html', '9.html', '10.html']\n"
     ]
    }
   ],
   "source": [
    "print(os.getcwd())\n",
    "dhl_directory = \"gregory_of_tours\"\n",
    "tours_retrieved_texts = extract_text_from_html(os.path.join(PACKDIR, \"dlh\", dhl_directory+\"_html\"))\n",
    "save_txt_reformat(os.path.join(PACKDIR, \"dlh\", dhl_directory+\"_txt\"), tours_retrieved_texts)"
   ]
  },
  {
   "cell_type": "markdown",
   "metadata": {
    "pycharm": {
     "name": "#%% md\n"
    }
   },
   "source": [
    "## Manual cleaning"
   ]
  }
 ],
 "metadata": {
  "kernelspec": {
   "display_name": "Python 3",
   "language": "python",
   "name": "python3"
  },
  "language_info": {
   "codemirror_mode": {
    "name": "ipython",
    "version": 3
   },
   "file_extension": ".py",
   "mimetype": "text/x-python",
   "name": "python",
   "nbconvert_exporter": "python",
   "pygments_lexer": "ipython3",
   "version": "3.6.3"
  }
 },
 "nbformat": 4,
 "nbformat_minor": 1
}